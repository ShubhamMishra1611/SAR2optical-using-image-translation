{
 "cells": [
  {
   "cell_type": "code",
   "execution_count": 3,
   "metadata": {},
   "outputs": [],
   "source": [
    "import os\n",
    "import numpy as np\n",
    "import shutil"
   ]
  },
  {
   "cell_type": "code",
   "execution_count": 4,
   "metadata": {},
   "outputs": [],
   "source": [
    "path_1 = \"multi_spectrum\"\n",
    "path_2 = \"SAR\""
   ]
  },
  {
   "cell_type": "code",
   "execution_count": 7,
   "metadata": {},
   "outputs": [
    {
     "name": "stdout",
     "output_type": "stream",
     "text": [
      "Number of files in multi_spectrum: 74980\n",
      "Number of files in SAR: 74980\n"
     ]
    }
   ],
   "source": [
    "for path in list([path_1, path_2]):\n",
    "    print(f\"Number of files in {path}: {len(os.listdir(path))}\")"
   ]
  },
  {
   "cell_type": "code",
   "execution_count": 5,
   "metadata": {},
   "outputs": [],
   "source": [
    "folder_1 = \"S2_data\"\n",
    "folder_2 = \"S1_data\""
   ]
  },
  {
   "cell_type": "code",
   "execution_count": null,
   "metadata": {},
   "outputs": [],
   "source": [
    "# if not os.path.exists(folder_1):\n",
    "#     os.mkdir(folder_1)\n",
    "#     for file in os.listdir(path_1):\n",
    "#         if file.endswith(\".tif\"):\n",
    "#             print(f\"Copying {file:} to {folder_1} folder\", end = '\\r')\n",
    "#             shutil.copy(os.path.join(path_1,file), os.path.join(folder_1,file))\n",
    "    "
   ]
  },
  {
   "cell_type": "code",
   "execution_count": 24,
   "metadata": {},
   "outputs": [
    {
     "name": "stdout",
     "output_type": "stream",
     "text": [
      "Copying Sentinel-1_9_99.tif to S2_data folderrrr\r"
     ]
    }
   ],
   "source": [
    "# if not os.path.exists(folder_2):\n",
    "#     os.mkdir(folder_2)\n",
    "#     for file in os.listdir(path_2):\n",
    "#         if file.endswith(\".tif\"):\n",
    "#             print(f\"Copying {file:} to {folder_2} folder\", end = '\\r')\n",
    "#             shutil.copy(os.path.join(path_2,file), os.path.join(folder_2,file))"
   ]
  },
  {
   "cell_type": "code",
   "execution_count": 6,
   "metadata": {},
   "outputs": [
    {
     "name": "stdout",
     "output_type": "stream",
     "text": [
      "Number of files in S2_data is 74880\n",
      "Number of files in S1_data is 74880\n"
     ]
    }
   ],
   "source": [
    "# Get the number of files in the each of the path\n",
    "print(f\"Number of files in {folder_1} is {len(os.listdir(folder_1))}\")\n",
    "print(f\"Number of files in {folder_2} is {len(os.listdir(folder_2))}\")"
   ]
  },
  {
   "cell_type": "code",
   "execution_count": 8,
   "metadata": {},
   "outputs": [],
   "source": [
    "from osgeo import gdal\n",
    "import numpy as np\n",
    "import matplotlib.pyplot as plt\n"
   ]
  },
  {
   "cell_type": "code",
   "execution_count": 9,
   "metadata": {},
   "outputs": [
    {
     "name": "stdout",
     "output_type": "stream",
     "text": [
      "Image size: 10 x 10\n",
      "Number of bands: 3\n",
      "Projection: GEOGCS[\"WGS 84\",DATUM[\"WGS_1984\",SPHEROID[\"WGS 84\",6378137,298.257223563,AUTHORITY[\"EPSG\",\"7030\"]],AUTHORITY[\"EPSG\",\"6326\"]],PRIMEM[\"Greenwich\",0],UNIT[\"degree\",0.0174532925199433,AUTHORITY[\"EPSG\",\"9122\"]],AXIS[\"Latitude\",NORTH],AXIS[\"Longitude\",EAST],AUTHORITY[\"EPSG\",\"4326\"]]\n",
      "Geotransform: (72.95676563129535, 8.983152841195215e-05, 0.0, 26.331417608111412, 0.0, -8.983152841195215e-05)\n",
      "Driver: GeoTIFF\n"
     ]
    }
   ],
   "source": [
    "# Read the image\n",
    "for file in os.listdir(folder_1):\n",
    "    image = gdal.Open(os.path.join(folder_1, file))\n",
    "    print(f\"Image size: {image.RasterXSize} x {image.RasterYSize}\")\n",
    "    print(f\"Number of bands: {image.RasterCount}\")\n",
    "    print(f\"Projection: {image.GetProjection()}\")\n",
    "    print(f\"Geotransform: {image.GetGeoTransform()}\")\n",
    "    print(f\"Driver: {image.GetDriver().LongName}\")\n",
    "    break"
   ]
  },
  {
   "cell_type": "code",
   "execution_count": 10,
   "metadata": {},
   "outputs": [],
   "source": [
    "band1 = image.GetRasterBand(1)\n",
    "band2 = image.GetRasterBand(2)\n",
    "band3 = image.GetRasterBand(3)"
   ]
  },
  {
   "cell_type": "code",
   "execution_count": 15,
   "metadata": {},
   "outputs": [],
   "source": [
    "assert band1 is not None or band2 is not None or band3 is not None, \"Band is not found\""
   ]
  },
  {
   "cell_type": "code",
   "execution_count": 16,
   "metadata": {},
   "outputs": [],
   "source": [
    "b1 = band1.ReadAsArray()\n",
    "b2 = band2.ReadAsArray()\n",
    "b3 = band3.ReadAsArray()"
   ]
  },
  {
   "cell_type": "code",
   "execution_count": 17,
   "metadata": {},
   "outputs": [],
   "source": [
    "assert b1 is not None or b2 is not None or b3 is not None, \"Band is not found\""
   ]
  },
  {
   "cell_type": "code",
   "execution_count": 19,
   "metadata": {},
   "outputs": [
    {
     "name": "stderr",
     "output_type": "stream",
     "text": [
      "Clipping input data to the valid range for imshow with RGB data ([0..1] for floats or [0..255] for integers).\n"
     ]
    },
    {
     "data": {
      "image/png": "[encoded data removed]",
      "text/plain": [
       "<Figure size 640x480 with 1 Axes>"
      ]
     },
     "metadata": {},
     "output_type": "display_data"
    }
   ],
   "source": [
    "img = np.dstack((b1, b2, b3))\n",
    "f = plt.figure()\n",
    "plt.imshow(img)\n",
    "plt.savefig('Tiff.png')\n",
    "plt.show()"
   ]
  },
  {
   "cell_type": "code",
   "execution_count": 44,
   "metadata": {},
   "outputs": [
    {
     "data": {
      "text/plain": [
       "(10, 10, 3)"
      ]
     },
     "execution_count": 44,
     "metadata": {},
     "output_type": "execute_result"
    }
   ],
   "source": [
    "img.shape"
   ]
  },
  {
   "cell_type": "code",
   "execution_count": null,
   "metadata": {},
   "outputs": [],
   "source": []
  }
 ],
 "metadata": {
  "kernelspec": {
   "display_name": "Python 3",
   "language": "python",
   "name": "python3"
  },
  "language_info": {
   "codemirror_mode": {
    "name": "ipython",
    "version": 3
   },
   "file_extension": ".py",
   "mimetype": "text/x-python",
   "name": "python",
   "nbconvert_exporter": "python",
   "pygments_lexer": "ipython3",
   "version": "3.10.7"
  },
  "orig_nbformat": 4,
  "vscode": {
   "interpreter": {
    "hash": "a9cff5a362bc38ef45d817ae74b1af54d6a076e3d773891282bce078b815ba34"
   }
  }
 },
 "nbformat": 4,
 "nbformat_minor": 2
}
